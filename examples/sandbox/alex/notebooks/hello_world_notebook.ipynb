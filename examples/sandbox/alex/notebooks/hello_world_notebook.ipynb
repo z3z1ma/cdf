{
 "cells": [
  {
   "cell_type": "code",
   "execution_count": null,
   "id": "4a6c5cd3-4334-47e7-b512-34dc238626d1",
   "metadata": {},
   "outputs": [],
   "source": [
    "import sys\n",
    "sys.executable"
   ]
  },
  {
   "cell_type": "code",
   "execution_count": null,
   "id": "c3810128-bf25-4e8c-99a6-2034101cd5c9",
   "metadata": {},
   "outputs": [],
   "source": [
    "sys.path"
   ]
  },
  {
   "cell_type": "code",
   "execution_count": null,
   "id": "8012b40d-1bf1-49b7-88b1-b3a860bebfb2",
   "metadata": {},
   "outputs": [],
   "source": [
    "import cdf\n",
    "import os"
   ]
  },
  {
   "cell_type": "code",
   "execution_count": null,
   "id": "5dc40c68-eaba-49df-8fe0-6370e7d5130e",
   "metadata": {},
   "outputs": [],
   "source": [
    "os.getcwd()"
   ]
  },
  {
   "cell_type": "code",
   "execution_count": null,
   "id": "c124f374-cb76-49aa-84aa-0e142e86d7df",
   "metadata": {},
   "outputs": [],
   "source": [
    "p = cdf.find_nearest().unwrap()\n",
    "p.name"
   ]
  }
 ],
 "metadata": {
  "kernelspec": {
   "display_name": "Python 3 (ipykernel)",
   "language": "python",
   "name": "python3"
  },
  "language_info": {
   "codemirror_mode": {
    "name": "ipython",
    "version": 3
   },
   "file_extension": ".py",
   "mimetype": "text/x-python",
   "name": "python",
   "nbconvert_exporter": "python",
   "pygments_lexer": "ipython3",
   "version": "3.11.6"
  }
 },
 "nbformat": 4,
 "nbformat_minor": 5
}
